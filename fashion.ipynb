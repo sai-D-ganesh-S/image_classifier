{
 "cells": [
  {
   "cell_type": "code",
   "execution_count": 4,
   "id": "90649810",
   "metadata": {},
   "outputs": [],
   "source": [
    "import pandas as pd\n",
    "from sklearn.model_selection import train_test_split\n",
    "import torch\n",
    "from torch.utils.data import Dataset, DataLoader\n",
    "import torch.nn as nn\n",
    "import torch.optim as optim\n",
    "import matplotlib.pyplot as plt"
   ]
  },
  {
   "cell_type": "code",
   "execution_count": 5,
   "id": "09ba6714",
   "metadata": {},
   "outputs": [
    {
     "data": {
      "text/plain": [
       "<torch._C.Generator at 0x222523dc450>"
      ]
     },
     "execution_count": 5,
     "metadata": {},
     "output_type": "execute_result"
    }
   ],
   "source": [
    "# Set random seeds for reproducibility\n",
    "torch.manual_seed(42)"
   ]
  },
  {
   "cell_type": "code",
   "execution_count": 6,
   "id": "dd052b0b",
   "metadata": {},
   "outputs": [
    {
     "data": {
      "text/html": [
       "<div>\n",
       "<style scoped>\n",
       "    .dataframe tbody tr th:only-of-type {\n",
       "        vertical-align: middle;\n",
       "    }\n",
       "\n",
       "    .dataframe tbody tr th {\n",
       "        vertical-align: top;\n",
       "    }\n",
       "\n",
       "    .dataframe thead th {\n",
       "        text-align: right;\n",
       "    }\n",
       "</style>\n",
       "<table border=\"1\" class=\"dataframe\">\n",
       "  <thead>\n",
       "    <tr style=\"text-align: right;\">\n",
       "      <th></th>\n",
       "      <th>label</th>\n",
       "      <th>pixel1</th>\n",
       "      <th>pixel2</th>\n",
       "      <th>pixel3</th>\n",
       "      <th>pixel4</th>\n",
       "      <th>pixel5</th>\n",
       "      <th>pixel6</th>\n",
       "      <th>pixel7</th>\n",
       "      <th>pixel8</th>\n",
       "      <th>pixel9</th>\n",
       "      <th>...</th>\n",
       "      <th>pixel775</th>\n",
       "      <th>pixel776</th>\n",
       "      <th>pixel777</th>\n",
       "      <th>pixel778</th>\n",
       "      <th>pixel779</th>\n",
       "      <th>pixel780</th>\n",
       "      <th>pixel781</th>\n",
       "      <th>pixel782</th>\n",
       "      <th>pixel783</th>\n",
       "      <th>pixel784</th>\n",
       "    </tr>\n",
       "  </thead>\n",
       "  <tbody>\n",
       "    <tr>\n",
       "      <th>0</th>\n",
       "      <td>9</td>\n",
       "      <td>0</td>\n",
       "      <td>0</td>\n",
       "      <td>0</td>\n",
       "      <td>0</td>\n",
       "      <td>0</td>\n",
       "      <td>0</td>\n",
       "      <td>0</td>\n",
       "      <td>0</td>\n",
       "      <td>0</td>\n",
       "      <td>...</td>\n",
       "      <td>0</td>\n",
       "      <td>7</td>\n",
       "      <td>0</td>\n",
       "      <td>50</td>\n",
       "      <td>205</td>\n",
       "      <td>196</td>\n",
       "      <td>213</td>\n",
       "      <td>165</td>\n",
       "      <td>0</td>\n",
       "      <td>0</td>\n",
       "    </tr>\n",
       "    <tr>\n",
       "      <th>1</th>\n",
       "      <td>7</td>\n",
       "      <td>0</td>\n",
       "      <td>0</td>\n",
       "      <td>0</td>\n",
       "      <td>0</td>\n",
       "      <td>0</td>\n",
       "      <td>0</td>\n",
       "      <td>0</td>\n",
       "      <td>0</td>\n",
       "      <td>0</td>\n",
       "      <td>...</td>\n",
       "      <td>0</td>\n",
       "      <td>0</td>\n",
       "      <td>0</td>\n",
       "      <td>0</td>\n",
       "      <td>0</td>\n",
       "      <td>0</td>\n",
       "      <td>0</td>\n",
       "      <td>0</td>\n",
       "      <td>0</td>\n",
       "      <td>0</td>\n",
       "    </tr>\n",
       "    <tr>\n",
       "      <th>2</th>\n",
       "      <td>0</td>\n",
       "      <td>0</td>\n",
       "      <td>0</td>\n",
       "      <td>0</td>\n",
       "      <td>0</td>\n",
       "      <td>0</td>\n",
       "      <td>1</td>\n",
       "      <td>0</td>\n",
       "      <td>0</td>\n",
       "      <td>0</td>\n",
       "      <td>...</td>\n",
       "      <td>142</td>\n",
       "      <td>142</td>\n",
       "      <td>142</td>\n",
       "      <td>21</td>\n",
       "      <td>0</td>\n",
       "      <td>3</td>\n",
       "      <td>0</td>\n",
       "      <td>0</td>\n",
       "      <td>0</td>\n",
       "      <td>0</td>\n",
       "    </tr>\n",
       "    <tr>\n",
       "      <th>3</th>\n",
       "      <td>8</td>\n",
       "      <td>0</td>\n",
       "      <td>0</td>\n",
       "      <td>0</td>\n",
       "      <td>0</td>\n",
       "      <td>0</td>\n",
       "      <td>0</td>\n",
       "      <td>0</td>\n",
       "      <td>0</td>\n",
       "      <td>0</td>\n",
       "      <td>...</td>\n",
       "      <td>0</td>\n",
       "      <td>0</td>\n",
       "      <td>0</td>\n",
       "      <td>0</td>\n",
       "      <td>0</td>\n",
       "      <td>0</td>\n",
       "      <td>0</td>\n",
       "      <td>0</td>\n",
       "      <td>0</td>\n",
       "      <td>0</td>\n",
       "    </tr>\n",
       "    <tr>\n",
       "      <th>4</th>\n",
       "      <td>8</td>\n",
       "      <td>0</td>\n",
       "      <td>0</td>\n",
       "      <td>0</td>\n",
       "      <td>0</td>\n",
       "      <td>0</td>\n",
       "      <td>0</td>\n",
       "      <td>0</td>\n",
       "      <td>0</td>\n",
       "      <td>0</td>\n",
       "      <td>...</td>\n",
       "      <td>213</td>\n",
       "      <td>203</td>\n",
       "      <td>174</td>\n",
       "      <td>151</td>\n",
       "      <td>188</td>\n",
       "      <td>10</td>\n",
       "      <td>0</td>\n",
       "      <td>0</td>\n",
       "      <td>0</td>\n",
       "      <td>0</td>\n",
       "    </tr>\n",
       "  </tbody>\n",
       "</table>\n",
       "<p>5 rows × 785 columns</p>\n",
       "</div>"
      ],
      "text/plain": [
       "   label  pixel1  pixel2  pixel3  pixel4  pixel5  pixel6  pixel7  pixel8  \\\n",
       "0      9       0       0       0       0       0       0       0       0   \n",
       "1      7       0       0       0       0       0       0       0       0   \n",
       "2      0       0       0       0       0       0       1       0       0   \n",
       "3      8       0       0       0       0       0       0       0       0   \n",
       "4      8       0       0       0       0       0       0       0       0   \n",
       "\n",
       "   pixel9  ...  pixel775  pixel776  pixel777  pixel778  pixel779  pixel780  \\\n",
       "0       0  ...         0         7         0        50       205       196   \n",
       "1       0  ...         0         0         0         0         0         0   \n",
       "2       0  ...       142       142       142        21         0         3   \n",
       "3       0  ...         0         0         0         0         0         0   \n",
       "4       0  ...       213       203       174       151       188        10   \n",
       "\n",
       "   pixel781  pixel782  pixel783  pixel784  \n",
       "0       213       165         0         0  \n",
       "1         0         0         0         0  \n",
       "2         0         0         0         0  \n",
       "3         0         0         0         0  \n",
       "4         0         0         0         0  \n",
       "\n",
       "[5 rows x 785 columns]"
      ]
     },
     "execution_count": 6,
     "metadata": {},
     "output_type": "execute_result"
    }
   ],
   "source": [
    "df = pd.read_csv('fmnist_small.csv')\n",
    "df.head()"
   ]
  },
  {
   "cell_type": "code",
   "execution_count": 7,
   "id": "9b1b0599",
   "metadata": {},
   "outputs": [
    {
     "data": {
      "image/png": "[encoded data removed]",
      "text/plain": [
       "<Figure size 1000x1000 with 16 Axes>"
      ]
     },
     "metadata": {},
     "output_type": "display_data"
    }
   ],
   "source": [
    "# Create a 4x4 grid of images\n",
    "fig, axes = plt.subplots(4, 4, figsize=(10, 10))\n",
    "fig.suptitle(\"16 Images\", fontsize=16)\n",
    "\n",
    "# Plot the first 16 images from the dataset\n",
    "for i, ax in enumerate(axes.flat):\n",
    "    img = df.iloc[i, 1:].values.reshape(28, 28)  # Reshape to 28x28\n",
    "    ax.imshow(img)  # Display in grayscale\n",
    "    ax.axis('off')  # Remove axis for a cleaner look\n",
    "    ax.set_title(f\"Label: {df.iloc[i, 0]}\")  # Show the label\n",
    "\n",
    "plt.tight_layout(rect=[0, 0, 1, 0.96])  # Adjust layout to fit the title\n",
    "plt.show()\n"
   ]
  },
  {
   "cell_type": "code",
   "execution_count": 8,
   "id": "a461015b",
   "metadata": {},
   "outputs": [],
   "source": [
    "# train test split\n",
    "\n",
    "X = df.iloc[:, 1:].values\n",
    "y = df.iloc[:, 0].values"
   ]
  },
  {
   "cell_type": "code",
   "execution_count": 9,
   "id": "9645f910",
   "metadata": {},
   "outputs": [],
   "source": [
    "X_train, X_test, y_train, y_test = train_test_split(X, y, test_size=0.2, random_state=42)"
   ]
  },
  {
   "cell_type": "code",
   "execution_count": 10,
   "id": "10ec6a0d",
   "metadata": {},
   "outputs": [],
   "source": [
    "# scaling the feautures\n",
    "X_train = X_train/255.0\n",
    "X_test = X_test/255.0"
   ]
  },
  {
   "cell_type": "code",
   "execution_count": 11,
   "id": "ffd718cc",
   "metadata": {},
   "outputs": [],
   "source": [
    "# create CustomDataset Class\n",
    "class CustomDataset(Dataset):\n",
    "\n",
    "  def __init__(self, features, labels):\n",
    "\n",
    "    self.features = torch.tensor(features, dtype=torch.float32)\n",
    "    self.labels = torch.tensor(labels, dtype=torch.long)\n",
    "\n",
    "  def __len__(self):\n",
    "\n",
    "    return len(self.features)\n",
    "\n",
    "  def __getitem__(self, index):\n",
    "\n",
    "    return self.features[index], self.labels[index]\n",
    "\n"
   ]
  },
  {
   "cell_type": "code",
   "execution_count": 12,
   "id": "d63187cf",
   "metadata": {},
   "outputs": [],
   "source": [
    "# create train_dataset object\n",
    "train_dataset = CustomDataset(X_train, y_train)"
   ]
  },
  {
   "cell_type": "code",
   "execution_count": 13,
   "id": "f1f1a9ca",
   "metadata": {},
   "outputs": [],
   "source": [
    "# create test_dataset object\n",
    "test_dataset = CustomDataset(X_test, y_test)"
   ]
  },
  {
   "cell_type": "code",
   "execution_count": 14,
   "id": "7846813d",
   "metadata": {},
   "outputs": [],
   "source": [
    "# create train and test loader\n",
    "train_loader = DataLoader(train_dataset, batch_size=32, shuffle=True)\n",
    "test_loader = DataLoader(test_dataset, batch_size=32, shuffle=False)"
   ]
  },
  {
   "cell_type": "code",
   "execution_count": 15,
   "id": "12a9903d",
   "metadata": {},
   "outputs": [],
   "source": [
    "# define NN class\n",
    "\n",
    "class MyNN(nn.Module):\n",
    "\n",
    "  def __init__(self, num_features):\n",
    "\n",
    "    super().__init__()\n",
    "    self.model = nn.Sequential(\n",
    "        nn.Linear(num_features, 128),\n",
    "        nn.ReLU(),\n",
    "        nn.Linear(128, 64),\n",
    "        nn.ReLU(),\n",
    "        nn.Linear(64, 10)\n",
    "        # cross entropy will automatically add a softmax layer to teh end so explicit mention is not mandatory \n",
    "    )\n",
    "\n",
    "  def forward(self, x):\n",
    "\n",
    "    return self.model(x)"
   ]
  },
  {
   "cell_type": "code",
   "execution_count": 16,
   "id": "c978e785",
   "metadata": {},
   "outputs": [],
   "source": [
    "# set learning rate and epochs\n",
    "epochs = 100\n",
    "learning_rate = 0.1"
   ]
  },
  {
   "cell_type": "code",
   "execution_count": 17,
   "id": "f1e78305",
   "metadata": {},
   "outputs": [],
   "source": [
    "# instatiate the model\n",
    "model = MyNN(X_train.shape[1])\n",
    "\n",
    "# loss function\n",
    "criterion = nn.CrossEntropyLoss()\n",
    "\n",
    "# optimizer\n",
    "optimizer = optim.SGD(model.parameters(), lr= learning_rate)"
   ]
  },
  {
   "cell_type": "code",
   "execution_count": 18,
   "id": "a1ecc4af",
   "metadata": {},
   "outputs": [
    {
     "name": "stdout",
     "output_type": "stream",
     "text": [
      "Epoch: 1 , Loss: 1.3216368528207143\n",
      "Epoch: 2 , Loss: 0.7793365478515625\n",
      "Epoch: 3 , Loss: 0.64275246322155\n",
      "Epoch: 4 , Loss: 0.5751657329003016\n",
      "Epoch: 5 , Loss: 0.5281801861524582\n",
      "Epoch: 6 , Loss: 0.4952875079711278\n",
      "Epoch: 7 , Loss: 0.46024330258369445\n",
      "Epoch: 8 , Loss: 0.435945899784565\n",
      "Epoch: 9 , Loss: 0.4182921435435613\n",
      "Epoch: 10 , Loss: 0.39761732483903567\n",
      "Epoch: 11 , Loss: 0.3850712249676386\n",
      "Epoch: 12 , Loss: 0.3714795027176539\n",
      "Epoch: 13 , Loss: 0.34805427918831505\n",
      "Epoch: 14 , Loss: 0.3460144503414631\n",
      "Epoch: 15 , Loss: 0.3146994787454605\n",
      "Epoch: 16 , Loss: 0.30996329853932064\n",
      "Epoch: 17 , Loss: 0.29662058234214783\n",
      "Epoch: 18 , Loss: 0.28524025072654086\n",
      "Epoch: 19 , Loss: 0.27303538357218105\n",
      "Epoch: 20 , Loss: 0.2639786763737599\n",
      "Epoch: 21 , Loss: 0.27316360354423525\n",
      "Epoch: 22 , Loss: 0.24315999607245128\n",
      "Epoch: 23 , Loss: 0.23965715132653714\n",
      "Epoch: 24 , Loss: 0.22243309319019317\n",
      "Epoch: 25 , Loss: 0.22544379870096842\n",
      "Epoch: 26 , Loss: 0.21352273071805636\n",
      "Epoch: 27 , Loss: 0.21874062043925127\n",
      "Epoch: 28 , Loss: 0.2073565424233675\n",
      "Epoch: 29 , Loss: 0.18546180138985316\n",
      "Epoch: 30 , Loss: 0.18581968231747548\n",
      "Epoch: 31 , Loss: 0.18805309881766638\n",
      "Epoch: 32 , Loss: 0.1876593923692902\n",
      "Epoch: 33 , Loss: 0.17832007191454372\n",
      "Epoch: 34 , Loss: 0.1686400937164823\n",
      "Epoch: 35 , Loss: 0.16511921614408492\n",
      "Epoch: 36 , Loss: 0.16473587845762572\n",
      "Epoch: 37 , Loss: 0.1706793058073769\n",
      "Epoch: 38 , Loss: 0.14936346836388112\n",
      "Epoch: 39 , Loss: 0.14508529833207529\n",
      "Epoch: 40 , Loss: 0.14443432902917266\n",
      "Epoch: 41 , Loss: 0.13686622992157937\n",
      "Epoch: 42 , Loss: 0.13634801821162304\n",
      "Epoch: 43 , Loss: 0.12336303521568577\n",
      "Epoch: 44 , Loss: 0.12312066980948051\n",
      "Epoch: 45 , Loss: 0.11106419514864684\n",
      "Epoch: 46 , Loss: 0.12032077906032403\n",
      "Epoch: 47 , Loss: 0.11212088056529562\n",
      "Epoch: 48 , Loss: 0.11980689791341623\n",
      "Epoch: 49 , Loss: 0.11570440933729212\n",
      "Epoch: 50 , Loss: 0.10080218775353084\n",
      "Epoch: 51 , Loss: 0.08305360810831189\n",
      "Epoch: 52 , Loss: 0.084420287773634\n",
      "Epoch: 53 , Loss: 0.10352461916704972\n",
      "Epoch: 54 , Loss: 0.081526836991931\n",
      "Epoch: 55 , Loss: 0.09502465442754328\n",
      "Epoch: 56 , Loss: 0.07065578618397315\n",
      "Epoch: 57 , Loss: 0.076662583258003\n",
      "Epoch: 58 , Loss: 0.11049129799629251\n",
      "Epoch: 59 , Loss: 0.09455497740147015\n",
      "Epoch: 60 , Loss: 0.08997280353990694\n",
      "Epoch: 61 , Loss: 0.09178858319297432\n",
      "Epoch: 62 , Loss: 0.06028476516250521\n",
      "Epoch: 63 , Loss: 0.08192993779977163\n",
      "Epoch: 64 , Loss: 0.0708960543712601\n",
      "Epoch: 65 , Loss: 0.09092794842707615\n",
      "Epoch: 66 , Loss: 0.06739774405645828\n",
      "Epoch: 67 , Loss: 0.05246540748514235\n",
      "Epoch: 68 , Loss: 0.05948014315217733\n",
      "Epoch: 69 , Loss: 0.06364950475593407\n",
      "Epoch: 70 , Loss: 0.06981428778109451\n",
      "Epoch: 71 , Loss: 0.07766938942794999\n",
      "Epoch: 72 , Loss: 0.04106106848766406\n",
      "Epoch: 73 , Loss: 0.04266605441691354\n",
      "Epoch: 74 , Loss: 0.044298503949151684\n",
      "Epoch: 75 , Loss: 0.04852790022424112\n",
      "Epoch: 76 , Loss: 0.028557200136904916\n",
      "Epoch: 77 , Loss: 0.026444483969826252\n",
      "Epoch: 78 , Loss: 0.05225755884389704\n",
      "Epoch: 79 , Loss: 0.06100184386751304\n",
      "Epoch: 80 , Loss: 0.05023499686096329\n",
      "Epoch: 81 , Loss: 0.05879744079817707\n",
      "Epoch: 82 , Loss: 0.04056293441525971\n",
      "Epoch: 83 , Loss: 0.021488843498130638\n",
      "Epoch: 84 , Loss: 0.020338133471086622\n",
      "Epoch: 85 , Loss: 0.02099669610276275\n",
      "Epoch: 86 , Loss: 0.041345514091663066\n",
      "Epoch: 87 , Loss: 0.023270179606139814\n",
      "Epoch: 88 , Loss: 0.022466538230267664\n",
      "Epoch: 89 , Loss: 0.03831432725516303\n",
      "Epoch: 90 , Loss: 0.038534679712417225\n",
      "Epoch: 91 , Loss: 0.07025495944011102\n",
      "Epoch: 92 , Loss: 0.061536101556072635\n",
      "Epoch: 93 , Loss: 0.018882786517885202\n",
      "Epoch: 94 , Loss: 0.010646886029474749\n",
      "Epoch: 95 , Loss: 0.017501595876334857\n",
      "Epoch: 96 , Loss: 0.011667660558305214\n",
      "Epoch: 97 , Loss: 0.023240065142745153\n",
      "Epoch: 98 , Loss: 0.009566385970586755\n",
      "Epoch: 99 , Loss: 0.010627978173239778\n",
      "Epoch: 100 , Loss: 0.005341107462688038\n"
     ]
    }
   ],
   "source": [
    "# training loop\n",
    "\n",
    "for epoch in range(epochs):\n",
    "\n",
    "  total_epoch_loss = 0\n",
    "\n",
    "  for batch_features, batch_labels in train_loader:\n",
    "\n",
    "    # forward pass\n",
    "    outputs = model(batch_features)\n",
    "\n",
    "    # calculate loss\n",
    "    loss = criterion(outputs, batch_labels)\n",
    "\n",
    "    # back pass\n",
    "    optimizer.zero_grad()\n",
    "    loss.backward()\n",
    "\n",
    "    # update grads\n",
    "    optimizer.step()\n",
    "\n",
    "    total_epoch_loss = total_epoch_loss + loss.item()\n",
    "\n",
    "  avg_loss = total_epoch_loss/len(train_loader)\n",
    "  print(f'Epoch: {epoch + 1} , Loss: {avg_loss}')\n"
   ]
  },
  {
   "cell_type": "code",
   "execution_count": 19,
   "id": "4aea65ee",
   "metadata": {},
   "outputs": [
    {
     "name": "stdout",
     "output_type": "stream",
     "text": [
      "0.8325\n"
     ]
    }
   ],
   "source": [
    "# evaluation code\n",
    "total = 0\n",
    "correct = 0\n",
    "\n",
    "with torch.no_grad():\n",
    "\n",
    "  for batch_features, batch_labels in test_loader:\n",
    "\n",
    "    outputs = model(batch_features)\n",
    "\n",
    "    _, predicted = torch.max(outputs, 1)\n",
    "\n",
    "    total = total + batch_labels.shape[0]\n",
    "\n",
    "    correct = correct + (predicted == batch_labels).sum().item()\n",
    "\n",
    "print(correct/total)\n"
   ]
  },
  {
   "cell_type": "markdown",
   "id": "58c47485",
   "metadata": {},
   "source": [
    "**lets evaluate our model on train Data**"
   ]
  },
  {
   "cell_type": "code",
   "execution_count": 20,
   "id": "d0d3820c",
   "metadata": {},
   "outputs": [
    {
     "name": "stdout",
     "output_type": "stream",
     "text": [
      "0.9989583333333333\n"
     ]
    }
   ],
   "source": [
    "# evaluation code\n",
    "total = 0\n",
    "correct = 0\n",
    "\n",
    "with torch.no_grad():\n",
    "\n",
    "  for batch_features, batch_labels in train_loader:\n",
    "\n",
    "    outputs = model(batch_features)\n",
    "\n",
    "    _, predicted = torch.max(outputs, 1)\n",
    "\n",
    "    total = total + batch_labels.shape[0]\n",
    "\n",
    "    correct = correct + (predicted == batch_labels).sum().item()\n",
    "\n",
    "print(correct/total)\n"
   ]
  },
  {
   "cell_type": "markdown",
   "id": "8741018e",
   "metadata": {},
   "source": [
    "**tets acc is 83 and train acc is 99.89 hence the model has overfit**\n"
   ]
  },
  {
   "cell_type": "markdown",
   "id": "8e3c0a1f",
   "metadata": {},
   "source": [
    "**that is why it is mandatory to use some regularization when dealing with high capacity models like deep learning**"
   ]
  },
  {
   "cell_type": "markdown",
   "id": "66be21e1",
   "metadata": {},
   "source": [
    "1) dropout\n",
    "2) batch norm \n",
    "3) l2"
   ]
  },
  {
   "cell_type": "markdown",
   "id": "47dee0c1",
   "metadata": {},
   "source": [
    "we are gonna try out these three"
   ]
  },
  {
   "cell_type": "code",
   "execution_count": null,
   "id": "71178f28",
   "metadata": {},
   "outputs": [],
   "source": [
    "class MyNN(nn.Module):\n",
    "    def __init__(self, num_features):\n",
    "        super().__init__()\n",
    "        self.model = nn.Sequential(\n",
    "            nn.Linear(num_features, 128),\n",
    "            nn.BatchNorm1d(128),\n",
    "            nn.ReLU(),\n",
    "            nn.Dropout(p=0.3),\n",
    "            nn.Linear(128, 64),\n",
    "            nn.BatchNorm1d(64),\n",
    "            nn.ReLU(),\n",
    "            nn.Dropout(p=0.3),\n",
    "            nn.Linear(64, 10)\n",
    "        )\n",
    "\n",
    "    def forward(self, x):\n",
    "        return self.model(x)"
   ]
  },
  {
   "cell_type": "code",
   "execution_count": 22,
   "id": "ee9bcd56",
   "metadata": {},
   "outputs": [],
   "source": [
    "learning_rate = 0.01\n",
    "epochs = 100"
   ]
  },
  {
   "cell_type": "code",
   "execution_count": 23,
   "id": "e5a417fe",
   "metadata": {},
   "outputs": [],
   "source": [
    "model = MyNN(X_train.shape[1])\n",
    "\n",
    "criterion = nn.CrossEntropyLoss()\n",
    "optimizer = optim.SGD(model.parameters(), lr=0.1, weight_decay=1e-4) # l2 is indirectly applied here"
   ]
  },
  {
   "cell_type": "code",
   "execution_count": 24,
   "id": "92dd5377",
   "metadata": {},
   "outputs": [
    {
     "name": "stdout",
     "output_type": "stream",
     "text": [
      "Epoch: 1 , Loss: 0.9761038005352021\n",
      "Epoch: 2 , Loss: 0.6806729376316071\n",
      "Epoch: 3 , Loss: 0.6251714714368184\n",
      "Epoch: 4 , Loss: 0.5788928101460139\n",
      "Epoch: 5 , Loss: 0.5373692939678828\n",
      "Epoch: 6 , Loss: 0.5223883171876271\n",
      "Epoch: 7 , Loss: 0.48301156560579933\n",
      "Epoch: 8 , Loss: 0.44714458217223485\n",
      "Epoch: 9 , Loss: 0.4475676720341047\n",
      "Epoch: 10 , Loss: 0.44086040745178856\n",
      "Epoch: 11 , Loss: 0.4177042768398921\n",
      "Epoch: 12 , Loss: 0.40678563048442207\n",
      "Epoch: 13 , Loss: 0.39974295715490976\n",
      "Epoch: 14 , Loss: 0.3766692626476288\n",
      "Epoch: 15 , Loss: 0.36115678653121\n",
      "Epoch: 16 , Loss: 0.3579924473166466\n",
      "Epoch: 17 , Loss: 0.35078385134538015\n",
      "Epoch: 18 , Loss: 0.34394975036382675\n",
      "Epoch: 19 , Loss: 0.3197352044284344\n",
      "Epoch: 20 , Loss: 0.3264927775164445\n",
      "Epoch: 21 , Loss: 0.31595240766803423\n",
      "Epoch: 22 , Loss: 0.3178883604208628\n",
      "Epoch: 23 , Loss: 0.2973930670320988\n",
      "Epoch: 24 , Loss: 0.30664375399549804\n",
      "Epoch: 25 , Loss: 0.2756978899737199\n",
      "Epoch: 26 , Loss: 0.26788108646869657\n",
      "Epoch: 27 , Loss: 0.2726065547267596\n",
      "Epoch: 28 , Loss: 0.26994346126914026\n",
      "Epoch: 29 , Loss: 0.2545501160621643\n",
      "Epoch: 30 , Loss: 0.24870448678731918\n",
      "Epoch: 31 , Loss: 0.2500677792727947\n",
      "Epoch: 32 , Loss: 0.24254422505696616\n",
      "Epoch: 33 , Loss: 0.2444082731505235\n",
      "Epoch: 34 , Loss: 0.2568109115461508\n",
      "Epoch: 35 , Loss: 0.2341130235294501\n",
      "Epoch: 36 , Loss: 0.23910728176434834\n",
      "Epoch: 37 , Loss: 0.22616732368866602\n",
      "Epoch: 38 , Loss: 0.23564609383543333\n",
      "Epoch: 39 , Loss: 0.21406566755225262\n",
      "Epoch: 40 , Loss: 0.2124082627147436\n",
      "Epoch: 41 , Loss: 0.21898978958527246\n",
      "Epoch: 42 , Loss: 0.21038839074472587\n",
      "Epoch: 43 , Loss: 0.20852098442614078\n",
      "Epoch: 44 , Loss: 0.20964757514496643\n",
      "Epoch: 45 , Loss: 0.19801058508455754\n",
      "Epoch: 46 , Loss: 0.19296480521559714\n",
      "Epoch: 47 , Loss: 0.19593155724306902\n",
      "Epoch: 48 , Loss: 0.1830575098283589\n",
      "Epoch: 49 , Loss: 0.2038470248878002\n",
      "Epoch: 50 , Loss: 0.18487166363745927\n",
      "Epoch: 51 , Loss: 0.18458791803568603\n",
      "Epoch: 52 , Loss: 0.18998892433941364\n",
      "Epoch: 53 , Loss: 0.16967566303908824\n",
      "Epoch: 54 , Loss: 0.1609033982579907\n",
      "Epoch: 55 , Loss: 0.1848238956804077\n",
      "Epoch: 56 , Loss: 0.16035692241042854\n",
      "Epoch: 57 , Loss: 0.18366245217621327\n",
      "Epoch: 58 , Loss: 0.1574785626679659\n",
      "Epoch: 59 , Loss: 0.16422424518813689\n",
      "Epoch: 60 , Loss: 0.1757167707507809\n",
      "Epoch: 61 , Loss: 0.16174189403653144\n",
      "Epoch: 62 , Loss: 0.1714010953530669\n",
      "Epoch: 63 , Loss: 0.15263094446311395\n",
      "Epoch: 64 , Loss: 0.1668146471058329\n",
      "Epoch: 65 , Loss: 0.15912088207900524\n",
      "Epoch: 66 , Loss: 0.17009117408345142\n",
      "Epoch: 67 , Loss: 0.15781355004757644\n",
      "Epoch: 68 , Loss: 0.1442522418126464\n",
      "Epoch: 69 , Loss: 0.15039680496479074\n",
      "Epoch: 70 , Loss: 0.1440924627147615\n",
      "Epoch: 71 , Loss: 0.15024383237585426\n",
      "Epoch: 72 , Loss: 0.1508055899788936\n",
      "Epoch: 73 , Loss: 0.15225571066141128\n",
      "Epoch: 74 , Loss: 0.15247310632218916\n",
      "Epoch: 75 , Loss: 0.12321557708084584\n",
      "Epoch: 76 , Loss: 0.12935110367834568\n",
      "Epoch: 77 , Loss: 0.12914183028663198\n",
      "Epoch: 78 , Loss: 0.13694540936499833\n",
      "Epoch: 79 , Loss: 0.13378383489946524\n",
      "Epoch: 80 , Loss: 0.13454302842418353\n",
      "Epoch: 81 , Loss: 0.12964330594986678\n",
      "Epoch: 82 , Loss: 0.1307443980065485\n",
      "Epoch: 83 , Loss: 0.10077462020640572\n",
      "Epoch: 84 , Loss: 0.1254658892005682\n",
      "Epoch: 85 , Loss: 0.14209138490259648\n",
      "Epoch: 86 , Loss: 0.11731794216359655\n",
      "Epoch: 87 , Loss: 0.13805945641050735\n",
      "Epoch: 88 , Loss: 0.10837588954096039\n",
      "Epoch: 89 , Loss: 0.11821140244603157\n",
      "Epoch: 90 , Loss: 0.13173679700431726\n",
      "Epoch: 91 , Loss: 0.11579508954814324\n",
      "Epoch: 92 , Loss: 0.12145248650883635\n",
      "Epoch: 93 , Loss: 0.13247346808513005\n",
      "Epoch: 94 , Loss: 0.11944980787734191\n",
      "Epoch: 95 , Loss: 0.09784415126157303\n",
      "Epoch: 96 , Loss: 0.11384181060517827\n",
      "Epoch: 97 , Loss: 0.12354912415146828\n",
      "Epoch: 98 , Loss: 0.10230073439578215\n",
      "Epoch: 99 , Loss: 0.13335647731398542\n",
      "Epoch: 100 , Loss: 0.10776480392863354\n"
     ]
    }
   ],
   "source": [
    "# training loop\n",
    "\n",
    "for epoch in range(epochs):\n",
    "\n",
    "  total_epoch_loss = 0\n",
    "\n",
    "  for batch_features, batch_labels in train_loader:\n",
    "\n",
    "    # forward pass\n",
    "    outputs = model(batch_features)\n",
    "\n",
    "    # calculate loss\n",
    "    loss = criterion(outputs, batch_labels)\n",
    "\n",
    "    # back pass\n",
    "    optimizer.zero_grad()\n",
    "    loss.backward()\n",
    "\n",
    "    # update grads\n",
    "    optimizer.step()\n",
    "\n",
    "    total_epoch_loss = total_epoch_loss + loss.item()\n",
    "\n",
    "  avg_loss = total_epoch_loss/len(train_loader)\n",
    "  print(f'Epoch: {epoch + 1} , Loss: {avg_loss}')\n"
   ]
  },
  {
   "cell_type": "code",
   "execution_count": 25,
   "id": "0cad3335",
   "metadata": {},
   "outputs": [
    {
     "data": {
      "text/plain": [
       "MyNN(\n",
       "  (model): Sequential(\n",
       "    (0): Linear(in_features=784, out_features=128, bias=True)\n",
       "    (1): BatchNorm1d(128, eps=1e-05, momentum=0.1, affine=True, track_running_stats=True)\n",
       "    (2): ReLU()\n",
       "    (3): Dropout(p=0.3, inplace=False)\n",
       "    (4): Linear(in_features=128, out_features=64, bias=True)\n",
       "    (5): BatchNorm1d(64, eps=1e-05, momentum=0.1, affine=True, track_running_stats=True)\n",
       "    (6): ReLU()\n",
       "    (7): Dropout(p=0.3, inplace=False)\n",
       "    (8): Linear(in_features=64, out_features=10, bias=True)\n",
       "  )\n",
       ")"
      ]
     },
     "execution_count": 25,
     "metadata": {},
     "output_type": "execute_result"
    }
   ],
   "source": [
    "model.eval()"
   ]
  },
  {
   "cell_type": "code",
   "execution_count": 26,
   "id": "a19fb854",
   "metadata": {},
   "outputs": [
    {
     "name": "stdout",
     "output_type": "stream",
     "text": [
      "0.8441666666666666\n"
     ]
    }
   ],
   "source": [
    "# evaluation on test data\n",
    "total = 0\n",
    "correct = 0\n",
    "\n",
    "with torch.no_grad():\n",
    "\n",
    "  for batch_features, batch_labels in test_loader:\n",
    "\n",
    "\n",
    "    outputs = model(batch_features)\n",
    "\n",
    "    _, predicted = torch.max(outputs, 1)\n",
    "\n",
    "    total = total + batch_labels.shape[0]\n",
    "\n",
    "    correct = correct + (predicted == batch_labels).sum().item()\n",
    "\n",
    "print(correct/total)"
   ]
  },
  {
   "cell_type": "code",
   "execution_count": 27,
   "id": "60f1d198",
   "metadata": {},
   "outputs": [
    {
     "name": "stdout",
     "output_type": "stream",
     "text": [
      "0.9960416666666667\n"
     ]
    }
   ],
   "source": [
    "# evaluation on training data\n",
    "total = 0\n",
    "correct = 0\n",
    "\n",
    "with torch.no_grad():\n",
    "\n",
    "  for batch_features, batch_labels in train_loader:\n",
    "\n",
    "    outputs = model(batch_features)\n",
    "\n",
    "    _, predicted = torch.max(outputs, 1)\n",
    "\n",
    "    total = total + batch_labels.shape[0]\n",
    "\n",
    "    correct = correct + (predicted == batch_labels).sum().item()\n",
    "\n",
    "print(correct/total)"
   ]
  },
  {
   "cell_type": "markdown",
   "id": "996f97a7",
   "metadata": {},
   "source": [
    "**we have improved from 17(100,83) to 13(96,83) diffrence betwenn train and test so the model is better generalised now**\n",
    "\n",
    " "
   ]
  },
  {
   "cell_type": "markdown",
   "id": "9e96d891",
   "metadata": {},
   "source": [
    "**Now its time for hyperparameter tuning to improve the test score**"
   ]
  },
  {
   "cell_type": "code",
   "execution_count": 35,
   "id": "7c1556fe",
   "metadata": {},
   "outputs": [],
   "source": [
    "class MyNN_(nn.Module):\n",
    "\n",
    "  def __init__(self, input_dim, output_dim, num_hidden_layers, neurons_per_layer, dropout_rate):\n",
    "\n",
    "    super().__init__()\n",
    "\n",
    "    layers = []\n",
    "\n",
    "    for i in range(num_hidden_layers):\n",
    "\n",
    "      layers.append(nn.Linear(input_dim, neurons_per_layer))\n",
    "      layers.append(nn.BatchNorm1d(neurons_per_layer))\n",
    "      layers.append(nn.ReLU())\n",
    "      layers.append(nn.Dropout(dropout_rate))\n",
    "      input_dim = neurons_per_layer\n",
    "\n",
    "    layers.append(nn.Linear(neurons_per_layer, output_dim))\n",
    "\n",
    "    self.model = nn.Sequential(*layers)\n",
    "\n",
    "  def forward(self, x):\n",
    "\n",
    "    return self.model(x)"
   ]
  },
  {
   "cell_type": "code",
   "execution_count": 36,
   "id": "fc2c3d6f",
   "metadata": {},
   "outputs": [],
   "source": [
    "# objective function\n",
    "def objective(trial):\n",
    "\n",
    "  # next hyperparameter values from the search space\n",
    "  num_hidden_layers = trial.suggest_int(\"num_hidden_layers\", 1, 5)\n",
    "  neurons_per_layer = trial.suggest_int(\"neurons_per_layer\", 8, 128, step=8)\n",
    "  epochs = trial.suggest_int(\"epochs\", 10, 50, step=10)\n",
    "  learning_rate = trial.suggest_float(\"learning_rate\", 1e-5, 1e-1, log=True)\n",
    "  dropout_rate = trial.suggest_float(\"dropout_rate\", 0.1, 0.5, step=0.1)\n",
    "  batch_size = trial.suggest_categorical(\"batch_size\", [16, 32, 64, 128])\n",
    "  optimizer_name = trial.suggest_categorical(\"optimizer\", ['Adam', 'SGD', 'RMSprop'])\n",
    "  weight_decay = trial.suggest_float(\"weight_decay\", 1e-5, 1e-3, log=True)\n",
    "\n",
    "  train_loader = DataLoader(train_dataset, batch_size=batch_size, shuffle=True, pin_memory=True)\n",
    "  test_loader = DataLoader(test_dataset, batch_size=batch_size, shuffle=False, pin_memory=True)\n",
    "\n",
    "  # model init\n",
    "  input_dim = 784\n",
    "  output_dim = 10\n",
    "\n",
    "  model = MyNN_(input_dim, output_dim, num_hidden_layers, neurons_per_layer, dropout_rate)\n",
    "\n",
    "  # optimizer selection\n",
    "  criterion = nn.CrossEntropyLoss()\n",
    "  optimizer = optim.SGD(model.parameters(), lr=0.1, weight_decay=1e-4)\n",
    "\n",
    "  if optimizer_name == 'Adam':\n",
    "    optim.Adam(model.parameters(), lr=learning_rate, weight_decay=weight_decay)\n",
    "  elif optimizer_name == 'SGD':\n",
    "    optim.SGD(model.parameters(), lr=learning_rate, weight_decay=weight_decay)\n",
    "  else:\n",
    "    optim.RMSprop(model.parameters(), lr=learning_rate, weight_decay=weight_decay)\n",
    "\n",
    "  # training loop\n",
    "\n",
    "  for epoch in range(epochs):\n",
    "\n",
    "    for batch_features, batch_labels in train_loader:\n",
    "\n",
    "      # forward pass\n",
    "      outputs = model(batch_features)\n",
    "\n",
    "      # calculate loss\n",
    "      loss = criterion(outputs, batch_labels)\n",
    "\n",
    "      # back pass\n",
    "      optimizer.zero_grad()\n",
    "      loss.backward()\n",
    "\n",
    "      # update grads\n",
    "      optimizer.step()\n",
    "\n",
    "\n",
    "  # evaluation\n",
    "  model.eval()\n",
    "  # evaluation on test data\n",
    "  total = 0\n",
    "  correct = 0\n",
    "\n",
    "  with torch.no_grad():\n",
    "\n",
    "    for batch_features, batch_labels in test_loader:\n",
    "\n",
    "      outputs = model(batch_features)\n",
    "\n",
    "      _, predicted = torch.max(outputs, 1)\n",
    "\n",
    "      total = total + batch_labels.shape[0]\n",
    "\n",
    "      correct = correct + (predicted == batch_labels).sum().item()\n",
    "\n",
    "    accuracy = correct/total\n",
    "\n",
    "  return accuracy"
   ]
  },
  {
   "cell_type": "code",
   "execution_count": 37,
   "id": "01f12710",
   "metadata": {},
   "outputs": [
    {
     "name": "stderr",
     "output_type": "stream",
     "text": [
      "[I 2025-06-09 14:59:47,264] A new study created in memory with name: no-name-78e19ed9-7a76-4f94-99d7-7e1b4acd7ce8\n"
     ]
    }
   ],
   "source": [
    "import optuna\n",
    "\n",
    "study = optuna.create_study(direction='maximize')"
   ]
  },
  {
   "cell_type": "code",
   "execution_count": 38,
   "id": "2d5cd4dd",
   "metadata": {},
   "outputs": [
    {
     "name": "stderr",
     "output_type": "stream",
     "text": [
      "[I 2025-06-09 15:00:12,100] Trial 0 finished with value: 0.435 and parameters: {'num_hidden_layers': 5, 'neurons_per_layer': 24, 'epochs': 30, 'learning_rate': 0.0031298905226983657, 'dropout_rate': 0.5, 'batch_size': 32, 'optimizer': 'Adam', 'weight_decay': 0.000261754358493072}. Best is trial 0 with value: 0.435.\n",
      "[I 2025-06-09 15:01:05,786] Trial 1 finished with value: 0.5816666666666667 and parameters: {'num_hidden_layers': 5, 'neurons_per_layer': 40, 'epochs': 50, 'learning_rate': 2.6882306877093362e-05, 'dropout_rate': 0.5, 'batch_size': 16, 'optimizer': 'RMSprop', 'weight_decay': 1.1819265115047513e-05}. Best is trial 1 with value: 0.5816666666666667.\n",
      "[I 2025-06-09 15:02:14,690] Trial 2 finished with value: 0.8375 and parameters: {'num_hidden_layers': 4, 'neurons_per_layer': 112, 'epochs': 30, 'learning_rate': 0.021875631976798322, 'dropout_rate': 0.30000000000000004, 'batch_size': 32, 'optimizer': 'RMSprop', 'weight_decay': 8.523633840947248e-05}. Best is trial 2 with value: 0.8375.\n",
      "[I 2025-06-09 15:02:59,313] Trial 3 finished with value: 0.8225 and parameters: {'num_hidden_layers': 1, 'neurons_per_layer': 56, 'epochs': 50, 'learning_rate': 0.0002759817402731944, 'dropout_rate': 0.2, 'batch_size': 64, 'optimizer': 'RMSprop', 'weight_decay': 0.00010452730111055828}. Best is trial 2 with value: 0.8375.\n",
      "[I 2025-06-09 15:06:19,978] Trial 4 finished with value: 0.84 and parameters: {'num_hidden_layers': 4, 'neurons_per_layer': 48, 'epochs': 40, 'learning_rate': 0.003259163954675859, 'dropout_rate': 0.1, 'batch_size': 16, 'optimizer': 'Adam', 'weight_decay': 2.352891746396998e-05}. Best is trial 4 with value: 0.84.\n",
      "[I 2025-06-09 15:07:59,837] Trial 5 finished with value: 0.7858333333333334 and parameters: {'num_hidden_layers': 3, 'neurons_per_layer': 16, 'epochs': 50, 'learning_rate': 0.0013969157177911248, 'dropout_rate': 0.30000000000000004, 'batch_size': 32, 'optimizer': 'RMSprop', 'weight_decay': 9.047078472221045e-05}. Best is trial 4 with value: 0.84.\n",
      "[I 2025-06-09 15:09:07,045] Trial 6 finished with value: 0.7983333333333333 and parameters: {'num_hidden_layers': 3, 'neurons_per_layer': 56, 'epochs': 30, 'learning_rate': 2.9637928821573698e-05, 'dropout_rate': 0.5, 'batch_size': 16, 'optimizer': 'Adam', 'weight_decay': 0.00016214019126723834}. Best is trial 4 with value: 0.84.\n",
      "[I 2025-06-09 15:09:14,906] Trial 7 finished with value: 0.8308333333333333 and parameters: {'num_hidden_layers': 3, 'neurons_per_layer': 72, 'epochs': 30, 'learning_rate': 0.003895332685684711, 'dropout_rate': 0.4, 'batch_size': 64, 'optimizer': 'SGD', 'weight_decay': 3.8874955318768374e-05}. Best is trial 4 with value: 0.84.\n",
      "[I 2025-06-09 15:09:31,236] Trial 8 finished with value: 0.6591666666666667 and parameters: {'num_hidden_layers': 4, 'neurons_per_layer': 8, 'epochs': 40, 'learning_rate': 0.006400334057315004, 'dropout_rate': 0.2, 'batch_size': 32, 'optimizer': 'RMSprop', 'weight_decay': 0.00010376036984710575}. Best is trial 4 with value: 0.84.\n",
      "[I 2025-06-09 15:10:31,685] Trial 9 finished with value: 0.8208333333333333 and parameters: {'num_hidden_layers': 1, 'neurons_per_layer': 32, 'epochs': 30, 'learning_rate': 0.0016264525724309473, 'dropout_rate': 0.1, 'batch_size': 16, 'optimizer': 'RMSprop', 'weight_decay': 0.00015795741386503097}. Best is trial 4 with value: 0.84.\n"
     ]
    }
   ],
   "source": [
    "study.optimize(objective, n_trials=10)"
   ]
  },
  {
   "cell_type": "code",
   "execution_count": 39,
   "id": "179b011c",
   "metadata": {},
   "outputs": [
    {
     "data": {
      "text/plain": [
       "0.84"
      ]
     },
     "execution_count": 39,
     "metadata": {},
     "output_type": "execute_result"
    }
   ],
   "source": [
    "study.best_value"
   ]
  },
  {
   "cell_type": "code",
   "execution_count": 40,
   "id": "dccb2585",
   "metadata": {},
   "outputs": [
    {
     "data": {
      "text/plain": [
       "{'num_hidden_layers': 4,\n",
       " 'neurons_per_layer': 48,\n",
       " 'epochs': 40,\n",
       " 'learning_rate': 0.003259163954675859,\n",
       " 'dropout_rate': 0.1,\n",
       " 'batch_size': 16,\n",
       " 'optimizer': 'Adam',\n",
       " 'weight_decay': 2.352891746396998e-05}"
      ]
     },
     "execution_count": 40,
     "metadata": {},
     "output_type": "execute_result"
    }
   ],
   "source": [
    "study.best_params"
   ]
  },
  {
   "cell_type": "code",
   "execution_count": 41,
   "id": "92929c65",
   "metadata": {},
   "outputs": [],
   "source": [
    "# this shows that deep learning networks alone cant perform better than this, and that motivates the need of CNN ARCHITECTURES"
   ]
  },
  {
   "cell_type": "code",
   "execution_count": 44,
   "id": "34db69a6",
   "metadata": {},
   "outputs": [],
   "source": [
    "# ofc when the entire 60000 images of the data set is used , accuracy went as high as 90 percent "
   ]
  },
  {
   "cell_type": "code",
   "execution_count": 43,
   "id": "97ddf259",
   "metadata": {},
   "outputs": [],
   "source": [
    "# if more accuracy is required, it is suggested to shift to a CNN"
   ]
  },
  {
   "cell_type": "code",
   "execution_count": null,
   "id": "be1946ad",
   "metadata": {},
   "outputs": [],
   "source": []
  }
 ],
 "metadata": {
  "kernelspec": {
   "display_name": "Python 3",
   "language": "python",
   "name": "python3"
  },
  "language_info": {
   "codemirror_mode": {
    "name": "ipython",
    "version": 3
   },
   "file_extension": ".py",
   "mimetype": "text/x-python",
   "name": "python",
   "nbconvert_exporter": "python",
   "pygments_lexer": "ipython3",
   "version": "3.12.3"
  }
 },
 "nbformat": 4,
 "nbformat_minor": 5
}
